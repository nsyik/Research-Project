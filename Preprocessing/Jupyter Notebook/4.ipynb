{
 "cells": [
  {
   "cell_type": "code",
   "execution_count": 2,
   "metadata": {},
   "outputs": [],
   "source": [
    "import math\n",
    "import numpy as np\n",
    "import matplotlib.pyplot as plt\n",
    "import pandas as pd\n",
    "from sklearn.svm import SVR\n",
    "from sklearn.model_selection import train_test_split\n",
    "from sklearn.preprocessing import StandardScaler\n",
    "from sklearn.metrics import mean_squared_error "
   ]
  },
  {
   "cell_type": "code",
   "execution_count": 3,
   "metadata": {},
   "outputs": [
    {
     "data": {
      "text/html": [
       "<div>\n",
       "<style scoped>\n",
       "    .dataframe tbody tr th:only-of-type {\n",
       "        vertical-align: middle;\n",
       "    }\n",
       "\n",
       "    .dataframe tbody tr th {\n",
       "        vertical-align: top;\n",
       "    }\n",
       "\n",
       "    .dataframe thead th {\n",
       "        text-align: right;\n",
       "    }\n",
       "</style>\n",
       "<table border=\"1\" class=\"dataframe\">\n",
       "  <thead>\n",
       "    <tr style=\"text-align: right;\">\n",
       "      <th></th>\n",
       "      <th>segment</th>\n",
       "      <th>x1</th>\n",
       "      <th>x2</th>\n",
       "      <th>duration</th>\n",
       "      <th>distance</th>\n",
       "      <th>weather</th>\n",
       "      <th>peak</th>\n",
       "    </tr>\n",
       "  </thead>\n",
       "  <tbody>\n",
       "    <tr>\n",
       "      <th>0</th>\n",
       "      <td>1</td>\n",
       "      <td>LRT TMN BAHAGIA</td>\n",
       "      <td>RUMAH NO. 57  JLN SS4A/1</td>\n",
       "      <td>198</td>\n",
       "      <td>165</td>\n",
       "      <td>1</td>\n",
       "      <td>0</td>\n",
       "    </tr>\n",
       "    <tr>\n",
       "      <th>1</th>\n",
       "      <td>1</td>\n",
       "      <td>LRT TMN BAHAGIA</td>\n",
       "      <td>RUMAH NO. 57  JLN SS4A/1</td>\n",
       "      <td>188</td>\n",
       "      <td>178</td>\n",
       "      <td>1</td>\n",
       "      <td>0</td>\n",
       "    </tr>\n",
       "    <tr>\n",
       "      <th>2</th>\n",
       "      <td>1</td>\n",
       "      <td>LRT TMN BAHAGIA</td>\n",
       "      <td>RUMAH NO. 57  JLN SS4A/1</td>\n",
       "      <td>45</td>\n",
       "      <td>148</td>\n",
       "      <td>1</td>\n",
       "      <td>0</td>\n",
       "    </tr>\n",
       "    <tr>\n",
       "      <th>3</th>\n",
       "      <td>1</td>\n",
       "      <td>LRT TMN BAHAGIA</td>\n",
       "      <td>RUMAH NO. 57  JLN SS4A/1</td>\n",
       "      <td>45</td>\n",
       "      <td>162</td>\n",
       "      <td>1</td>\n",
       "      <td>0</td>\n",
       "    </tr>\n",
       "    <tr>\n",
       "      <th>4</th>\n",
       "      <td>1</td>\n",
       "      <td>LRT TMN BAHAGIA</td>\n",
       "      <td>RUMAH NO. 57  JLN SS4A/1</td>\n",
       "      <td>159</td>\n",
       "      <td>176</td>\n",
       "      <td>1</td>\n",
       "      <td>0</td>\n",
       "    </tr>\n",
       "    <tr>\n",
       "      <th>5</th>\n",
       "      <td>1</td>\n",
       "      <td>LRT TMN BAHAGIA</td>\n",
       "      <td>RUMAH NO. 57  JLN SS4A/1</td>\n",
       "      <td>159</td>\n",
       "      <td>189</td>\n",
       "      <td>1</td>\n",
       "      <td>0</td>\n",
       "    </tr>\n",
       "    <tr>\n",
       "      <th>6</th>\n",
       "      <td>1</td>\n",
       "      <td>LRT TMN BAHAGIA</td>\n",
       "      <td>RUMAH NO. 57  JLN SS4A/1</td>\n",
       "      <td>78</td>\n",
       "      <td>186</td>\n",
       "      <td>1</td>\n",
       "      <td>0</td>\n",
       "    </tr>\n",
       "    <tr>\n",
       "      <th>7</th>\n",
       "      <td>1</td>\n",
       "      <td>LRT TMN BAHAGIA</td>\n",
       "      <td>RUMAH NO. 57  JLN SS4A/1</td>\n",
       "      <td>78</td>\n",
       "      <td>197</td>\n",
       "      <td>1</td>\n",
       "      <td>0</td>\n",
       "    </tr>\n",
       "    <tr>\n",
       "      <th>8</th>\n",
       "      <td>1</td>\n",
       "      <td>LRT TMN BAHAGIA</td>\n",
       "      <td>RUMAH NO. 57  JLN SS4A/1</td>\n",
       "      <td>130</td>\n",
       "      <td>67</td>\n",
       "      <td>1</td>\n",
       "      <td>0</td>\n",
       "    </tr>\n",
       "    <tr>\n",
       "      <th>9</th>\n",
       "      <td>1</td>\n",
       "      <td>LRT TMN BAHAGIA</td>\n",
       "      <td>RUMAH NO. 57  JLN SS4A/1</td>\n",
       "      <td>130</td>\n",
       "      <td>81</td>\n",
       "      <td>1</td>\n",
       "      <td>0</td>\n",
       "    </tr>\n",
       "  </tbody>\n",
       "</table>\n",
       "</div>"
      ],
      "text/plain": [
       "   segment               x1                        x2  duration  distance  \\\n",
       "0        1  LRT TMN BAHAGIA  RUMAH NO. 57  JLN SS4A/1       198       165   \n",
       "1        1  LRT TMN BAHAGIA  RUMAH NO. 57  JLN SS4A/1       188       178   \n",
       "2        1  LRT TMN BAHAGIA  RUMAH NO. 57  JLN SS4A/1        45       148   \n",
       "3        1  LRT TMN BAHAGIA  RUMAH NO. 57  JLN SS4A/1        45       162   \n",
       "4        1  LRT TMN BAHAGIA  RUMAH NO. 57  JLN SS4A/1       159       176   \n",
       "5        1  LRT TMN BAHAGIA  RUMAH NO. 57  JLN SS4A/1       159       189   \n",
       "6        1  LRT TMN BAHAGIA  RUMAH NO. 57  JLN SS4A/1        78       186   \n",
       "7        1  LRT TMN BAHAGIA  RUMAH NO. 57  JLN SS4A/1        78       197   \n",
       "8        1  LRT TMN BAHAGIA  RUMAH NO. 57  JLN SS4A/1       130        67   \n",
       "9        1  LRT TMN BAHAGIA  RUMAH NO. 57  JLN SS4A/1       130        81   \n",
       "\n",
       "   weather  peak  \n",
       "0        1     0  \n",
       "1        1     0  \n",
       "2        1     0  \n",
       "3        1     0  \n",
       "4        1     0  \n",
       "5        1     0  \n",
       "6        1     0  \n",
       "7        1     0  \n",
       "8        1     0  \n",
       "9        1     0  "
      ]
     },
     "execution_count": 3,
     "metadata": {},
     "output_type": "execute_result"
    }
   ],
   "source": [
    "df = pd.read_csv('allsegments.csv')\n",
    "df.head(10)"
   ]
  },
  {
   "cell_type": "code",
   "execution_count": 26,
   "metadata": {},
   "outputs": [
    {
     "data": {
      "text/plain": [
       "array([[11, 33, 1, 0],\n",
       "       [4, 104, 1, 0],\n",
       "       [1, 134, 1, 0],\n",
       "       [17, 62, 1, 0],\n",
       "       [13, 178, 1, 0],\n",
       "       [11, 8, 1, 1],\n",
       "       [9, 45, 1, 0],\n",
       "       [18, 96, 1, 0],\n",
       "       [20, 186, 1, 1],\n",
       "       [9, 48, 1, 0]], dtype=object)"
      ]
     },
     "execution_count": 26,
     "metadata": {},
     "output_type": "execute_result"
    }
   ],
   "source": [
    "# Extract the training and test data\n",
    "data = df.values\n",
    "X = data[:,[0,4,5,6]]\n",
    "y = data[:,3]\n",
    "X_train, X_test, y_train, y_test = train_test_split(X, y, test_size=0.25, random_state=42)\n",
    "X_train[:10]"
   ]
  },
  {
   "cell_type": "code",
   "execution_count": 27,
   "metadata": {},
   "outputs": [
    {
     "name": "stderr",
     "output_type": "stream",
     "text": [
      "C:\\Users\\seong\\AppData\\Local\\Continuum\\anaconda3\\lib\\site-packages\\sklearn\\utils\\validation.py:595: DataConversionWarning: Data with input dtype object was converted to float64 by StandardScaler.\n",
      "  warnings.warn(msg, DataConversionWarning)\n",
      "C:\\Users\\seong\\AppData\\Local\\Continuum\\anaconda3\\lib\\site-packages\\sklearn\\utils\\validation.py:595: DataConversionWarning: Data with input dtype object was converted to float64 by StandardScaler.\n",
      "  warnings.warn(msg, DataConversionWarning)\n",
      "C:\\Users\\seong\\AppData\\Local\\Continuum\\anaconda3\\lib\\site-packages\\sklearn\\utils\\validation.py:595: DataConversionWarning: Data with input dtype object was converted to float64 by StandardScaler.\n",
      "  warnings.warn(msg, DataConversionWarning)\n"
     ]
    },
    {
     "data": {
      "text/plain": [
       "array([[ 0.05870636, -1.25653271, -0.40180723, -0.49824129],\n",
       "       [-0.98034614, -0.05960795, -0.40180723, -0.49824129],\n",
       "       [-1.42565435,  0.44613491, -0.40180723, -0.49824129],\n",
       "       [ 0.94932279, -0.76764795, -0.40180723, -0.49824129],\n",
       "       [ 0.35557851,  1.1878911 , -0.40180723, -0.49824129],\n",
       "       [ 0.05870636, -1.67798509, -0.40180723,  2.00705968],\n",
       "       [-0.23816578, -1.05423557, -0.40180723, -0.49824129],\n",
       "       [ 1.09775886, -0.19447271, -0.40180723, -0.49824129],\n",
       "       [ 1.39463101,  1.32275586, -0.40180723,  2.00705968],\n",
       "       [-0.23816578, -1.00366128, -0.40180723, -0.49824129]])"
      ]
     },
     "execution_count": 27,
     "metadata": {},
     "output_type": "execute_result"
    }
   ],
   "source": [
    "# Scale the data to be between -1 and 1\n",
    "scaler = StandardScaler()\n",
    "scaler.fit(X_train)\n",
    "X_train = scaler.transform(X_train)\n",
    "X_test = scaler.transform(X_test)\n",
    "X_train[:10]"
   ]
  },
  {
   "cell_type": "code",
   "execution_count": 56,
   "metadata": {},
   "outputs": [],
   "source": [
    "# Establish a model\n",
    "model = SVR(C=1000, cache_size=500, epsilon=27, kernel='rbf')"
   ]
  },
  {
   "cell_type": "code",
   "execution_count": 57,
   "metadata": {},
   "outputs": [
    {
     "data": {
      "text/plain": [
       "SVR(C=1000, cache_size=500, coef0=0.0, degree=3, epsilon=27,\n",
       "  gamma='auto_deprecated', kernel='rbf', max_iter=-1, shrinking=True,\n",
       "  tol=0.001, verbose=False)"
      ]
     },
     "execution_count": 57,
     "metadata": {},
     "output_type": "execute_result"
    }
   ],
   "source": [
    "# Train the model - this will take a minute\n",
    "model.fit(X_train, y_train)"
   ]
  },
  {
   "cell_type": "code",
   "execution_count": 58,
   "metadata": {},
   "outputs": [
    {
     "data": {
      "text/plain": [
       "0.1869826208358998"
      ]
     },
     "execution_count": 58,
     "metadata": {},
     "output_type": "execute_result"
    }
   ],
   "source": [
    "# Score the model\n",
    "model.score(X_test, y_test)"
   ]
  },
  {
   "cell_type": "code",
   "execution_count": 55,
   "metadata": {},
   "outputs": [
    {
     "data": {
      "image/png": "[encoded data removed]",
      "text/plain": [
       "<Figure size 432x288 with 1 Axes>"
      ]
     },
     "metadata": {
      "needs_background": "light"
     },
     "output_type": "display_data"
    }
   ],
   "source": [
    "# Not a great score. Try other epsilons - this will take about 5 minutes.\n",
    "epsilons = np.arange(20,30)\n",
    "scores = []\n",
    "for e in epsilons:\n",
    "    model.set_params(epsilon=e)\n",
    "    model.fit(X_train, y_train)\n",
    "    scores.append(model.score(X_test, y_test))\n",
    "plt.plot(epsilons, scores)\n",
    "plt.title(\"Epsilon effect\")\n",
    "plt.xlabel(\"epsilon\")\n",
    "plt.ylabel(\"score\")\n",
    "plt.show()"
   ]
  },
  {
   "cell_type": "code",
   "execution_count": null,
   "metadata": {},
   "outputs": [],
   "source": [
    "model.set_params(epsilon=5)\n",
    "Cs = [1e0, 1e1, 1e2, 1e3,1e4,1e5]\n",
    "scores = []\n",
    "for c in Cs:\n",
    "    model.set_params(C=c)\n",
    "    model.fit(X_train, y_train)\n",
    "    scores.append(model.score(X_test, y_test))\n",
    "plt.plot(Cs, scores)\n",
    "plt.title(\"C effect\")\n",
    "plt.xlabel(\"C\")\n",
    "plt.ylabel(\"score\")\n",
    "plt.show()"
   ]
  },
  {
   "cell_type": "code",
   "execution_count": null,
   "metadata": {},
   "outputs": [],
   "source": [
    "mse =mean_squared_error(y, pred_y)\n",
    "print(\"Mean Squared Error:\",mse)\n",
    " \n",
    "rmse = math.sqrt(mse)\n",
    "print(\"Root Mean Squared Error:\", rmse)"
   ]
  }
 ],
 "metadata": {
  "kernelspec": {
   "display_name": "Python 3",
   "language": "python",
   "name": "python3"
  },
  "language_info": {
   "codemirror_mode": {
    "name": "ipython",
    "version": 3
   },
   "file_extension": ".py",
   "mimetype": "text/x-python",
   "name": "python",
   "nbconvert_exporter": "python",
   "pygments_lexer": "ipython3",
   "version": "3.7.1"
  }
 },
 "nbformat": 4,
 "nbformat_minor": 2
}
