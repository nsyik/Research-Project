{
 "cells": [
  {
   "cell_type": "code",
   "execution_count": 1,
   "metadata": {},
   "outputs": [],
   "source": [
    "import pandas as pd\n",
    "data = pd.read_excel(r'D:\\Configura OneDrive\\OneDrive - Configura Sverige AB\\repjcitybusdata\\Preprocessed\\PJ-MBPJ-2019-06-02-Trip Inspection.xlsx')\n",
    "df = pd.DataFrame(data, columns = ['Sequence','Stop Name','Stop Coordinate','Check Time','Log Coordinate','Distance'])\n",
    "df = df.dropna(subset = ['Distance'])\n",
    "df['S'] = df['Sequence'].shift(+1)\n",
    "df = df.drop(df.query('Sequence == \"Sequence\"').index)\n",
    "#print(df)\n",
    "#df.assign(N_Distance= df['0'].where(df['S'] == \"Sequence\"))\n",
    "#df.loc[df['S'] == \"Sequence\", 'N'] = 0\n",
    "#print(df)\n",
    "#if (df['S'] == \"Sequence\"):\n",
    "#    df['N_Distance'] = 0\n",
    "#else:\n",
    "#    df['N_Distance'] = ['Distance']   \n",
    "#print(df)\n",
    "with open('my_csv.csv', 'a') as f:\n",
    "    df.to_csv(f, index = False, line_terminator='\\n')\n",
    "#df.to_csv('PJ-MBPJ-2019-06-02-Trip Inspection.csv', index=False)"
   ]
  },
  {
   "cell_type": "code",
   "execution_count": 2,
   "metadata": {},
   "outputs": [],
   "source": [
    "data = pd.read_excel(r'D:\\Configura OneDrive\\OneDrive - Configura Sverige AB\\repjcitybusdata\\Preprocessed\\PJ-MBPJ-2019-06-03-Trip Inspection.xlsx')\n",
    "df = pd.DataFrame(data, columns = ['Sequence','Stop Name','Stop Coordinate','Check Time','Log Coordinate','Distance'])\n",
    "df = df.dropna(subset = ['Distance'])\n",
    "df['S'] = df['Sequence'].shift(+1)\n",
    "df = df.drop(df.query('Sequence == \"Sequence\"').index)\n",
    "with open('my_csv.csv', 'a') as f:\n",
    "    df.to_csv(f, index = False, header = False, line_terminator='\\n')\n",
    "#df.to_csv('PJ-MBPJ-2019-06-03-Trip Inspection.csv', index=False)"
   ]
  },
  {
   "cell_type": "code",
   "execution_count": 3,
   "metadata": {},
   "outputs": [],
   "source": [
    "data = pd.read_excel(r'D:\\Configura OneDrive\\OneDrive - Configura Sverige AB\\repjcitybusdata\\Preprocessed\\PJ-MBPJ-2019-06-04-Trip Inspection.xlsx')\n",
    "df = pd.DataFrame(data, columns = ['Sequence','Stop Name','Stop Coordinate','Check Time','Log Coordinate','Distance'])\n",
    "df = df.dropna(subset = ['Distance'])\n",
    "df['S'] = df['Sequence'].shift(+1)\n",
    "df = df.drop(df.query('Sequence == \"Sequence\"').index)\n",
    "with open('my_csv.csv', 'a') as f:\n",
    "    df.to_csv(f, index = False, header = False, line_terminator='\\n')\n",
    "#df.to_csv('PJ-MBPJ-2019-06-04-Trip Inspection.csv', index=False)"
   ]
  },
  {
   "cell_type": "code",
   "execution_count": 4,
   "metadata": {},
   "outputs": [],
   "source": [
    "data = pd.read_excel(r'D:\\Configura OneDrive\\OneDrive - Configura Sverige AB\\repjcitybusdata\\Preprocessed\\PJ-MBPJ-2019-06-05-Trip Inspection.xlsx')\n",
    "df = pd.DataFrame(data, columns = ['Sequence','Stop Name','Stop Coordinate','Check Time','Log Coordinate','Distance'])\n",
    "df = df.dropna(subset = ['Distance'])\n",
    "df['S'] = df['Sequence'].shift(+1)\n",
    "df = df.drop(df.query('Sequence == \"Sequence\"').index)\n",
    "with open('my_csv.csv', 'a') as f:\n",
    "    df.to_csv(f, index = False, header = False, line_terminator='\\n')\n",
    "#df.to_csv('PJ-MBPJ-2019-06-05-Trip Inspection.csv', index=False)"
   ]
  },
  {
   "cell_type": "code",
   "execution_count": 5,
   "metadata": {},
   "outputs": [],
   "source": [
    "data = pd.read_excel(r'D:\\Configura OneDrive\\OneDrive - Configura Sverige AB\\repjcitybusdata\\Preprocessed\\PJ-MBPJ-2019-06-06-Trip Inspection.xlsx')\n",
    "df = pd.DataFrame(data, columns = ['Sequence','Stop Name','Stop Coordinate','Check Time','Log Coordinate','Distance'])\n",
    "df = df.dropna(subset = ['Distance'])\n",
    "df['S'] = df['Sequence'].shift(+1)\n",
    "df = df.drop(df.query('Sequence == \"Sequence\"').index)\n",
    "with open('my_csv.csv', 'a') as f:\n",
    "    df.to_csv(f, index = False, header = False, line_terminator='\\n')\n",
    "#df.to_csv('PJ-MBPJ-2019-06-06-Trip Inspection.csv', index=False)"
   ]
  },
  {
   "cell_type": "code",
   "execution_count": 6,
   "metadata": {},
   "outputs": [],
   "source": [
    "data = pd.read_excel(r'D:\\Configura OneDrive\\OneDrive - Configura Sverige AB\\repjcitybusdata\\Preprocessed\\PJ-MBPJ-2019-06-07-Trip Inspection.xlsx')\n",
    "df = pd.DataFrame(data, columns = ['Sequence','Stop Name','Stop Coordinate','Check Time','Log Coordinate','Distance'])\n",
    "df = df.dropna(subset = ['Distance'])\n",
    "df['S'] = df['Sequence'].shift(+1)\n",
    "df = df.drop(df.query('Sequence == \"Sequence\"').index)\n",
    "with open('my_csv.csv', 'a') as f:\n",
    "    df.to_csv(f, index = False, header = False, line_terminator='\\n')\n",
    "#df.to_csv('PJ-MBPJ-2019-06-07-Trip Inspection.csv', index=False)"
   ]
  },
  {
   "cell_type": "code",
   "execution_count": 7,
   "metadata": {},
   "outputs": [],
   "source": [
    "data = pd.read_excel(r'D:\\Configura OneDrive\\OneDrive - Configura Sverige AB\\repjcitybusdata\\Preprocessed\\PJ-MBPJ-2019-06-08-Trip Inspection.xlsx')\n",
    "df = pd.DataFrame(data, columns = ['Sequence','Stop Name','Stop Coordinate','Check Time','Log Coordinate','Distance'])\n",
    "df = df.dropna(subset = ['Distance'])\n",
    "df['S'] = df['Sequence'].shift(+1)\n",
    "df = df.drop(df.query('Sequence == \"Sequence\"').index)\n",
    "with open('my_csv.csv', 'a') as f:\n",
    "    df.to_csv(f, index = False, header = False, line_terminator='\\n')\n",
    "f.close()\n",
    "#df.to_csv('PJ-MBPJ-2019-06-08-Trip Inspection.csv', index=False)"
   ]
  },
  {
   "cell_type": "code",
   "execution_count": null,
   "metadata": {},
   "outputs": [],
   "source": []
  }
 ],
 "metadata": {
  "kernelspec": {
   "display_name": "Python 3",
   "language": "python",
   "name": "python3"
  },
  "language_info": {
   "codemirror_mode": {
    "name": "ipython",
    "version": 3
   },
   "file_extension": ".py",
   "mimetype": "text/x-python",
   "name": "python",
   "nbconvert_exporter": "python",
   "pygments_lexer": "ipython3",
   "version": "3.7.3"
  }
 },
 "nbformat": 4,
 "nbformat_minor": 2
}
