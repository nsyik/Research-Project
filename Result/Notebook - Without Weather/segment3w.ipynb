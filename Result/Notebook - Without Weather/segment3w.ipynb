{
 "cells": [
  {
   "cell_type": "code",
   "execution_count": 1,
   "metadata": {},
   "outputs": [],
   "source": [
    "import math\n",
    "import numpy as np\n",
    "import matplotlib.pyplot as plt\n",
    "import pandas as pd\n",
    "from sklearn.svm import SVR\n",
    "from sklearn.model_selection import train_test_split\n",
    "#from sklearn.preprocessing import StandardScaler\n",
    "from sklearn.preprocessing import MinMaxScaler\n",
    "from sklearn.metrics import mean_squared_error "
   ]
  },
  {
   "cell_type": "code",
   "execution_count": 2,
   "metadata": {},
   "outputs": [],
   "source": [
    "df = pd.read_csv('segment3.csv')\n",
    "#df.head(10)"
   ]
  },
  {
   "cell_type": "code",
   "execution_count": 3,
   "metadata": {},
   "outputs": [],
   "source": [
    "# Extract the training and test data\n",
    "data = df.values\n",
    "X = data[:,[4,6]]\n",
    "y = data[:,3]\n",
    "X_train, X_test, y_train, y_test = train_test_split(X, y, test_size=0.25, random_state=12)\n",
    "#X_train[:10]"
   ]
  },
  {
   "cell_type": "code",
   "execution_count": 4,
   "metadata": {},
   "outputs": [
    {
     "name": "stderr",
     "output_type": "stream",
     "text": [
      "C:\\Users\\Yik\\Anaconda3\\lib\\site-packages\\sklearn\\utils\\validation.py:595: DataConversionWarning: Data with input dtype object was converted to float64 by MinMaxScaler.\n",
      "  warnings.warn(msg, DataConversionWarning)\n"
     ]
    }
   ],
   "source": [
    "# Scale the data to be between 0 and 1\n",
    "#scaler = StandardScaler()\n",
    "scaler = MinMaxScaler()\n",
    "scaler.fit(X_train)\n",
    "X_train = scaler.transform(X_train)\n",
    "X_test = scaler.transform(X_test)\n",
    "#X_train[:10]"
   ]
  },
  {
   "cell_type": "code",
   "execution_count": 16,
   "metadata": {},
   "outputs": [],
   "source": [
    "# Establish a SVR model with parameters\n",
    "model = SVR(C=210, cache_size=500, epsilon=8, kernel='rbf', gamma='auto')\n",
    "#model = SVR(C=100, cache_size=500, epsilon=4, kernel='rbf', gamma='auto')"
   ]
  },
  {
   "cell_type": "code",
   "execution_count": 17,
   "metadata": {},
   "outputs": [
    {
     "data": {
      "text/plain": [
       "SVR(C=210, cache_size=500, coef0=0.0, degree=3, epsilon=8, gamma='auto',\n",
       "  kernel='rbf', max_iter=-1, shrinking=True, tol=0.001, verbose=False)"
      ]
     },
     "execution_count": 17,
     "metadata": {},
     "output_type": "execute_result"
    }
   ],
   "source": [
    "# Train the model\n",
    "model.fit(X_train, y_train)"
   ]
  },
  {
   "cell_type": "code",
   "execution_count": 18,
   "metadata": {},
   "outputs": [
    {
     "name": "stdout",
     "output_type": "stream",
     "text": [
      "Mean Squared Error: 172.25398091704795\n",
      "Root Mean Squared Error: 13.124556408391408\n"
     ]
    }
   ],
   "source": [
    "#Final RMSE of the model\n",
    "pred_y = model.predict(X_test)\n",
    "\n",
    "mse =mean_squared_error(y_test, pred_y)\n",
    "print(\"Mean Squared Error:\",mse)\n",
    " \n",
    "rmse = math.sqrt(mse)\n",
    "print(\"Root Mean Squared Error:\", rmse)"
   ]
  },
  {
   "cell_type": "code",
   "execution_count": 19,
   "metadata": {},
   "outputs": [
    {
     "data": {
      "image/png": "[encoded data removed]",
      "text/plain": [
       "<Figure size 432x288 with 1 Axes>"
      ]
     },
     "metadata": {
      "needs_background": "light"
     },
     "output_type": "display_data"
    }
   ],
   "source": [
    "# Try to get the lowest RMSE by using different Epsilon value\n",
    "epsilons = np.arange(1,25)\n",
    "scores = []\n",
    "for e in epsilons:\n",
    "    model.set_params(epsilon=e)\n",
    "    model.fit(X_train, y_train)\n",
    "    scores.append(math.sqrt(mean_squared_error(y_test, model.predict(X_test))))\n",
    "plt.plot(epsilons, scores)\n",
    "plt.title(\"Epsilon effect\")\n",
    "plt.xlabel(\"epsilon\")\n",
    "plt.ylabel(\"RMSE\")\n",
    "plt.show()"
   ]
  },
  {
   "cell_type": "code",
   "execution_count": 20,
   "metadata": {},
   "outputs": [
    {
     "data": {
      "image/png": "[encoded data removed]",
      "text/plain": [
       "<Figure size 432x288 with 1 Axes>"
      ]
     },
     "metadata": {
      "needs_background": "light"
     },
     "output_type": "display_data"
    }
   ],
   "source": [
    "# Try to get the lowest RMSE by using different C value with Epsilon value above, then retrain the model again above\n",
    "model.set_params(epsilon=8)\n",
    "Cs = np.arange(1,400)\n",
    "scores = []\n",
    "for c in Cs:\n",
    "    model.set_params(C=c)\n",
    "    model.fit(X_train, y_train)\n",
    "    scores.append(math.sqrt(mean_squared_error(y_test, model.predict(X_test))))\n",
    "plt.plot(Cs, scores)\n",
    "plt.title(\"C effect\")\n",
    "plt.xlabel(\"C\")\n",
    "plt.ylabel(\"RMSE\")\n",
    "plt.show()"
   ]
  },
  {
   "cell_type": "code",
   "execution_count": null,
   "metadata": {},
   "outputs": [],
   "source": []
  }
 ],
 "metadata": {
  "kernelspec": {
   "display_name": "Python 3",
   "language": "python",
   "name": "python3"
  },
  "language_info": {
   "codemirror_mode": {
    "name": "ipython",
    "version": 3
   },
   "file_extension": ".py",
   "mimetype": "text/x-python",
   "name": "python",
   "nbconvert_exporter": "python",
   "pygments_lexer": "ipython3",
   "version": "3.7.3"
  }
 },
 "nbformat": 4,
 "nbformat_minor": 2
}
